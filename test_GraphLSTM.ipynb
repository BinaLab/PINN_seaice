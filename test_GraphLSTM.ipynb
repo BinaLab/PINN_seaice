{
 "cells": [
  {
   "cell_type": "code",
   "execution_count": 42,
   "id": "a50ab33a-be82-4a3b-8124-0bacc4dfbf37",
   "metadata": {
    "tags": []
   },
   "outputs": [
    {
     "name": "stdout",
     "output_type": "stream",
     "text": [
      "The autoreload extension is already loaded. To reload it, use:\n",
      "  %reload_ext autoreload\n"
     ]
    }
   ],
   "source": [
    "# Ignore warning\n",
    "import warnings\n",
    "warnings.filterwarnings(\"ignore\")\n",
    "\n",
    "import os    \n",
    "os.environ['KMP_DUPLICATE_LIB_OK'] = 'True'\n",
    "\n",
    "import pandas as pd\n",
    "import glob, os\n",
    "import matplotlib.pyplot as plt\n",
    "import numpy as np\n",
    "import geopandas\n",
    "import netCDF4\n",
    "import h5py\n",
    "import datetime as dt\n",
    "import pyproj\n",
    "\n",
    "import pickle\n",
    "\n",
    "# check pytorch version\n",
    "import torch    \n",
    "import torch.nn as nn\n",
    "import torch.nn.functional as F\n",
    "\n",
    "import torch.optim as optim\n",
    "\n",
    "import networkx as nx\n",
    "from torch_geometric.utils.convert import to_networkx, from_networkx\n",
    "from torch_geometric.data import Data\n",
    "from torch_geometric.loader import DataLoader\n",
    "from torch_geometric.nn import GCNConv\n",
    "\n",
    "%load_ext autoreload\n",
    "%autoreload 2\n",
    "from functions import *\n",
    "from torch_model import *"
   ]
  },
  {
   "cell_type": "code",
   "execution_count": 14,
   "id": "4c88f5c3-b119-48a0-9420-0f7f66f61b29",
   "metadata": {
    "tags": []
   },
   "outputs": [
    {
     "ename": "ModuleNotFoundError",
     "evalue": "No module named 'torch_geometric_temporal'",
     "output_type": "error",
     "traceback": [
      "\u001b[1;31m---------------------------------------------------------------------------\u001b[0m",
      "\u001b[1;31mModuleNotFoundError\u001b[0m                       Traceback (most recent call last)",
      "Cell \u001b[1;32mIn[14], line 1\u001b[0m\n\u001b[1;32m----> 1\u001b[0m \u001b[38;5;28;01mfrom\u001b[39;00m \u001b[38;5;21;01mtorch_geometric_temporal\u001b[39;00m\u001b[38;5;21;01m.\u001b[39;00m\u001b[38;5;21;01mdataset\u001b[39;00m \u001b[38;5;28;01mimport\u001b[39;00m ChickenpoxDatasetLoader\n\u001b[0;32m      2\u001b[0m \u001b[38;5;28;01mfrom\u001b[39;00m \u001b[38;5;21;01mtorch_geometric_temporal\u001b[39;00m\u001b[38;5;21;01m.\u001b[39;00m\u001b[38;5;21;01msignal\u001b[39;00m \u001b[38;5;28;01mimport\u001b[39;00m temporal_signal_split\n\u001b[0;32m      4\u001b[0m loader \u001b[38;5;241m=\u001b[39m ChickenpoxDatasetLoader()\n",
      "\u001b[1;31mModuleNotFoundError\u001b[0m: No module named 'torch_geometric_temporal'"
     ]
    }
   ],
   "source": [
    "from torch_geometric_temporal.dataset import ChickenpoxDatasetLoader\n",
    "from torch_geometric_temporal.signal import temporal_signal_split\n",
    "\n",
    "loader = ChickenpoxDatasetLoader()\n",
    "\n",
    "dataset = loader.get_dataset()\n",
    "\n",
    "train_dataset, test_dataset = temporal_signal_split(dataset, train_ratio=0.2)"
   ]
  },
  {
   "cell_type": "code",
   "execution_count": 44,
   "id": "7ab6ad86-38a4-4ce1-b09a-77b006fb17d9",
   "metadata": {
    "tags": []
   },
   "outputs": [
    {
     "data": {
      "text/plain": [
       "Data(x=[102400, 8], edge_index=[2, 815364], y=[102400, 3])"
      ]
     },
     "execution_count": 44,
     "metadata": {},
     "output_type": "execute_result"
    }
   ],
   "source": [
    "data"
   ]
  },
  {
   "cell_type": "code",
   "execution_count": 82,
   "id": "98d35f97-1585-46bf-9d2e-c434eb5c2972",
   "metadata": {
    "tags": []
   },
   "outputs": [
    {
     "name": "stdout",
     "output_type": "stream",
     "text": [
      "RecurrentGCN(\n",
      "  (recurrent): GConvLSTM(\n",
      "    (conv_x_i): ChebConv(8, 32, K=1, normalization=sym)\n",
      "    (conv_h_i): ChebConv(32, 32, K=1, normalization=sym)\n",
      "    (conv_x_f): ChebConv(8, 32, K=1, normalization=sym)\n",
      "    (conv_h_f): ChebConv(32, 32, K=1, normalization=sym)\n",
      "    (conv_x_c): ChebConv(8, 32, K=1, normalization=sym)\n",
      "    (conv_h_c): ChebConv(32, 32, K=1, normalization=sym)\n",
      "    (conv_x_o): ChebConv(8, 32, K=1, normalization=sym)\n",
      "    (conv_h_o): ChebConv(32, 32, K=1, normalization=sym)\n",
      "  )\n",
      "  (linear1): Linear(in_features=32, out_features=32, bias=True)\n",
      "  (linear2): Linear(in_features=32, out_features=3, bias=True)\n",
      ")\n",
      "Number of parameters: 6755\n"
     ]
    }
   ],
   "source": [
    "class RecurrentGCN(torch.nn.Module):\n",
    "    def __init__(self, node_features):\n",
    "        super(RecurrentGCN, self).__init__()\n",
    "        self.recurrent = GConvLSTM(node_features, 32, 1)\n",
    "        self.linear1 = torch.nn.Linear(32, 32)\n",
    "        self.linear2 = torch.nn.Linear(32, 3)\n",
    "\n",
    "    def forward(self, x, edge_index, edge_weight, h, c):\n",
    "        h_0, c_0 = self.recurrent(x, edge_index, edge_weight, h, c)\n",
    "        h = F.relu(h_0)\n",
    "        h = self.linear1(h)\n",
    "        h = self.linear2(h)\n",
    "        return h, h_0, c_0\n",
    "\n",
    "model = RecurrentGCN(8)\n",
    "print(model)\n",
    "\n",
    "total_params = sum(p.numel() for p in model.parameters())\n",
    "print(f\"Number of parameters: {total_params}\")"
   ]
  },
  {
   "cell_type": "code",
   "execution_count": 85,
   "id": "5a68dd98-d097-441e-8693-09a1e815bff8",
   "metadata": {
    "tags": []
   },
   "outputs": [
    {
     "name": "stdout",
     "output_type": "stream",
     "text": [
      "0 tensor(0.0011, dtype=torch.float64, grad_fn=<DivBackward0>)\n",
      "1 tensor(0.0012, dtype=torch.float64, grad_fn=<DivBackward0>)\n",
      "2 tensor(0.0014, dtype=torch.float64, grad_fn=<DivBackward0>)\n",
      "3 tensor(0.0016, dtype=torch.float64, grad_fn=<DivBackward0>)\n",
      "4 tensor(0.0019, dtype=torch.float64, grad_fn=<DivBackward0>)\n",
      "5 tensor(0.0022, dtype=torch.float64, grad_fn=<DivBackward0>)\n",
      "6 tensor(0.0024, dtype=torch.float64, grad_fn=<DivBackward0>)\n",
      "7 tensor(0.0025, dtype=torch.float64, grad_fn=<DivBackward0>)\n",
      "8 tensor(0.0026, dtype=torch.float64, grad_fn=<DivBackward0>)\n"
     ]
    },
    {
     "ename": "KeyboardInterrupt",
     "evalue": "",
     "output_type": "error",
     "traceback": [
      "\u001b[1;31m---------------------------------------------------------------------------\u001b[0m",
      "\u001b[1;31mKeyboardInterrupt\u001b[0m                         Traceback (most recent call last)",
      "Cell \u001b[1;32mIn[85], line 8\u001b[0m\n\u001b[0;32m      6\u001b[0m     cost \u001b[38;5;241m=\u001b[39m cost \u001b[38;5;241m+\u001b[39m torch\u001b[38;5;241m.\u001b[39mmean((y_hat\u001b[38;5;241m-\u001b[39msnapshot\u001b[38;5;241m.\u001b[39my)\u001b[38;5;241m*\u001b[39m\u001b[38;5;241m*\u001b[39m\u001b[38;5;241m2\u001b[39m)\n\u001b[0;32m      7\u001b[0m cost \u001b[38;5;241m=\u001b[39m cost \u001b[38;5;241m/\u001b[39m (time\u001b[38;5;241m+\u001b[39m\u001b[38;5;241m1\u001b[39m)\n\u001b[1;32m----> 8\u001b[0m \u001b[43mcost\u001b[49m\u001b[38;5;241;43m.\u001b[39;49m\u001b[43mbackward\u001b[49m\u001b[43m(\u001b[49m\u001b[43m)\u001b[49m\n\u001b[0;32m      9\u001b[0m optimizer\u001b[38;5;241m.\u001b[39mstep()\n\u001b[0;32m     10\u001b[0m optimizer\u001b[38;5;241m.\u001b[39mzero_grad()\n",
      "File \u001b[1;32m~\\anaconda3\\envs\\mygpu\\lib\\site-packages\\torch\\_tensor.py:487\u001b[0m, in \u001b[0;36mTensor.backward\u001b[1;34m(self, gradient, retain_graph, create_graph, inputs)\u001b[0m\n\u001b[0;32m    477\u001b[0m \u001b[38;5;28;01mif\u001b[39;00m has_torch_function_unary(\u001b[38;5;28mself\u001b[39m):\n\u001b[0;32m    478\u001b[0m     \u001b[38;5;28;01mreturn\u001b[39;00m handle_torch_function(\n\u001b[0;32m    479\u001b[0m         Tensor\u001b[38;5;241m.\u001b[39mbackward,\n\u001b[0;32m    480\u001b[0m         (\u001b[38;5;28mself\u001b[39m,),\n\u001b[1;32m   (...)\u001b[0m\n\u001b[0;32m    485\u001b[0m         inputs\u001b[38;5;241m=\u001b[39minputs,\n\u001b[0;32m    486\u001b[0m     )\n\u001b[1;32m--> 487\u001b[0m \u001b[43mtorch\u001b[49m\u001b[38;5;241;43m.\u001b[39;49m\u001b[43mautograd\u001b[49m\u001b[38;5;241;43m.\u001b[39;49m\u001b[43mbackward\u001b[49m\u001b[43m(\u001b[49m\n\u001b[0;32m    488\u001b[0m \u001b[43m    \u001b[49m\u001b[38;5;28;43mself\u001b[39;49m\u001b[43m,\u001b[49m\u001b[43m \u001b[49m\u001b[43mgradient\u001b[49m\u001b[43m,\u001b[49m\u001b[43m \u001b[49m\u001b[43mretain_graph\u001b[49m\u001b[43m,\u001b[49m\u001b[43m \u001b[49m\u001b[43mcreate_graph\u001b[49m\u001b[43m,\u001b[49m\u001b[43m \u001b[49m\u001b[43minputs\u001b[49m\u001b[38;5;241;43m=\u001b[39;49m\u001b[43minputs\u001b[49m\n\u001b[0;32m    489\u001b[0m \u001b[43m\u001b[49m\u001b[43m)\u001b[49m\n",
      "File \u001b[1;32m~\\anaconda3\\envs\\mygpu\\lib\\site-packages\\torch\\autograd\\__init__.py:200\u001b[0m, in \u001b[0;36mbackward\u001b[1;34m(tensors, grad_tensors, retain_graph, create_graph, grad_variables, inputs)\u001b[0m\n\u001b[0;32m    195\u001b[0m     retain_graph \u001b[38;5;241m=\u001b[39m create_graph\n\u001b[0;32m    197\u001b[0m \u001b[38;5;66;03m# The reason we repeat same the comment below is that\u001b[39;00m\n\u001b[0;32m    198\u001b[0m \u001b[38;5;66;03m# some Python versions print out the first line of a multi-line function\u001b[39;00m\n\u001b[0;32m    199\u001b[0m \u001b[38;5;66;03m# calls in the traceback and some print out the last line\u001b[39;00m\n\u001b[1;32m--> 200\u001b[0m \u001b[43mVariable\u001b[49m\u001b[38;5;241;43m.\u001b[39;49m\u001b[43m_execution_engine\u001b[49m\u001b[38;5;241;43m.\u001b[39;49m\u001b[43mrun_backward\u001b[49m\u001b[43m(\u001b[49m\u001b[43m  \u001b[49m\u001b[38;5;66;43;03m# Calls into the C++ engine to run the backward pass\u001b[39;49;00m\n\u001b[0;32m    201\u001b[0m \u001b[43m    \u001b[49m\u001b[43mtensors\u001b[49m\u001b[43m,\u001b[49m\u001b[43m \u001b[49m\u001b[43mgrad_tensors_\u001b[49m\u001b[43m,\u001b[49m\u001b[43m \u001b[49m\u001b[43mretain_graph\u001b[49m\u001b[43m,\u001b[49m\u001b[43m \u001b[49m\u001b[43mcreate_graph\u001b[49m\u001b[43m,\u001b[49m\u001b[43m \u001b[49m\u001b[43minputs\u001b[49m\u001b[43m,\u001b[49m\n\u001b[0;32m    202\u001b[0m \u001b[43m    \u001b[49m\u001b[43mallow_unreachable\u001b[49m\u001b[38;5;241;43m=\u001b[39;49m\u001b[38;5;28;43;01mTrue\u001b[39;49;00m\u001b[43m,\u001b[49m\u001b[43m \u001b[49m\u001b[43maccumulate_grad\u001b[49m\u001b[38;5;241;43m=\u001b[39;49m\u001b[38;5;28;43;01mTrue\u001b[39;49;00m\u001b[43m)\u001b[49m\n",
      "\u001b[1;31mKeyboardInterrupt\u001b[0m: "
     ]
    }
   ],
   "source": [
    "for epoch in range(10):\n",
    "    cost = 0\n",
    "    h, c = None, None\n",
    "    for time, snapshot in enumerate(loader):\n",
    "        y_hat, h, c = model(snapshot.x.to(torch.float), snapshot.edge_index, snapshot.edge_attr, h, c)\n",
    "        cost = cost + torch.mean((y_hat-snapshot.y)**2)\n",
    "    cost = cost / (time+1)\n",
    "    cost.backward()\n",
    "    optimizer.step()\n",
    "    optimizer.zero_grad()\n",
    "    print(epoch, cost)"
   ]
  },
  {
   "cell_type": "code",
   "execution_count": 71,
   "id": "19991c75-2d6f-4ec4-9c0a-2cd05f1c8b9a",
   "metadata": {
    "tags": []
   },
   "outputs": [
    {
     "data": {
      "text/plain": [
       "torch.Size([307200])"
      ]
     },
     "execution_count": 71,
     "metadata": {},
     "output_type": "execute_result"
    }
   ],
   "source": [
    "torch.ones(len(snapshot.x)).size()"
   ]
  },
  {
   "cell_type": "code",
   "execution_count": 74,
   "id": "d32c7b37-10b3-4a01-9352-cb24665b5337",
   "metadata": {
    "tags": []
   },
   "outputs": [
    {
     "data": {
      "text/plain": [
       "2446092"
      ]
     },
     "execution_count": 74,
     "metadata": {},
     "output_type": "execute_result"
    }
   ],
   "source": [
    "snapshot.edge_index.size()[1]"
   ]
  },
  {
   "cell_type": "code",
   "execution_count": 86,
   "id": "fb2544b2-6ef9-4d4e-bb63-f43947ef3fb9",
   "metadata": {
    "tags": []
   },
   "outputs": [
    {
     "name": "stdout",
     "output_type": "stream",
     "text": [
      "RecurrentGCN(\n",
      "  (recurrent): GConvLSTM(\n",
      "    (conv_x_i): ChebConv(8, 32, K=1, normalization=sym)\n",
      "    (conv_h_i): ChebConv(32, 32, K=1, normalization=sym)\n",
      "    (conv_x_f): ChebConv(8, 32, K=1, normalization=sym)\n",
      "    (conv_h_f): ChebConv(32, 32, K=1, normalization=sym)\n",
      "    (conv_x_c): ChebConv(8, 32, K=1, normalization=sym)\n",
      "    (conv_h_c): ChebConv(32, 32, K=1, normalization=sym)\n",
      "    (conv_x_o): ChebConv(8, 32, K=1, normalization=sym)\n",
      "    (conv_h_o): ChebConv(32, 32, K=1, normalization=sym)\n",
      "  )\n",
      "  (linear1): Linear(in_features=32, out_features=32, bias=True)\n",
      "  (linear2): Linear(in_features=32, out_features=3, bias=True)\n",
      ")\n",
      "0 tensor(0.0353, dtype=torch.float64, grad_fn=<MeanBackward0>)\n",
      "10 tensor(0.0140, dtype=torch.float64, grad_fn=<MeanBackward0>)\n",
      "20 tensor(0.0124, dtype=torch.float64, grad_fn=<MeanBackward0>)\n",
      "30 tensor(0.0099, dtype=torch.float64, grad_fn=<MeanBackward0>)\n",
      "40 tensor(0.0090, dtype=torch.float64, grad_fn=<MeanBackward0>)\n",
      "50 tensor(0.0101, dtype=torch.float64, grad_fn=<MeanBackward0>)\n",
      "60 tensor(0.0094, dtype=torch.float64, grad_fn=<MeanBackward0>)\n",
      "70 tensor(0.0084, dtype=torch.float64, grad_fn=<MeanBackward0>)\n",
      "80 tensor(0.0083, dtype=torch.float64, grad_fn=<MeanBackward0>)\n",
      "90 tensor(0.0098, dtype=torch.float64, grad_fn=<MeanBackward0>)\n"
     ]
    }
   ],
   "source": [
    "print(model)\n",
    "criterion = torch.nn.L1Loss()  # Define loss criterion.\n",
    "optimizer = torch.optim.Adam(model.parameters(), lr=0.005)  # Define optimizer.\n",
    "\n",
    "def train(data):\n",
    "    model.train()\n",
    "    loss_all = 0\n",
    "    h, c = None, None\n",
    "    for data in loader:        \n",
    "        optimizer.zero_grad()  # Clear gradients.\n",
    "        out, h, c = model(data.x.to(torch.float), data.edge_index, data.edge_attr, h, c)  # Perform a single forward pass.\n",
    "        loss = criterion(out, data.y)  # Compute the loss solely based on the training nodes.\n",
    "        loss.backward()  # Derive gradients.\n",
    "        optimizer.step()  # Update parameters based on gradients.\n",
    "    return loss\n",
    "\n",
    "\n",
    "for epoch in range(100):\n",
    "    model.train()\n",
    "    loss_all = 0\n",
    "    h, c = None, None\n",
    "    for data in loader:        \n",
    "        optimizer.zero_grad()  # Clear gradients.\n",
    "        out, h, c = model(data.x.to(torch.float), data.edge_index, data.edge_attr, h, c)  # Perform a single forward pass.\n",
    "        loss = criterion(out, data.y)  # Compute the loss solely based on the training nodes.\n",
    "        loss.backward()  # Derive gradients.\n",
    "        optimizer.step()  # Update parameters based on gradients.\n",
    "\n",
    "    if epoch % 10 == 0:\n",
    "        print(epoch, loss)\n",
    "        # visualize_embedding(h, color=data.y, epoch=epoch, loss=loss)\n",
    "        # time.sleep(0.3)\n",
    "print(epoch, loss)"
   ]
  },
  {
   "cell_type": "code",
   "execution_count": 99,
   "id": "8818ad37-ff13-4860-aa48-0ed827adb2fc",
   "metadata": {
    "tags": []
   },
   "outputs": [
    {
     "data": {
      "text/plain": [
       "tensor([[     0,      0,      0,  ..., 307199, 307199, 307199],\n",
       "        [   320,      1,    321,  ..., 306878, 306879, 307198]])"
      ]
     },
     "execution_count": 99,
     "metadata": {},
     "output_type": "execute_result"
    }
   ],
   "source": [
    "data.edge_index"
   ]
  },
  {
   "cell_type": "code",
   "execution_count": 91,
   "id": "0a46b536-be82-4cde-bd90-eceda02cfd92",
   "metadata": {
    "tags": []
   },
   "outputs": [],
   "source": [
    "    \n",
    "model.eval()\n",
    "loss = 0\n",
    "out, _, _ = model(snapshot.x.to(torch.float), snapshot.edge_index, snapshot.edge_attr, h, c)\n",
    "loss += criterion(out, data.y)\n",
    "# cost = cost / (time+1)\n",
    "# cost = cost.item()\n",
    "# print(\"MSE: {:.4f}\".format(cost))"
   ]
  },
  {
   "cell_type": "code",
   "execution_count": 96,
   "id": "bde85965-50a6-4221-96c5-8ad7a5b2fa6b",
   "metadata": {
    "tags": []
   },
   "outputs": [
    {
     "data": {
      "text/plain": [
       "array([0.0009702 , 0.00103188, 0.00109351, ..., 0.00285117, 0.00285152,\n",
       "       0.0028519 ], dtype=float32)"
      ]
     },
     "execution_count": 96,
     "metadata": {},
     "output_type": "execute_result"
    }
   ],
   "source": [
    "out[:, 0].detach().numpy()"
   ]
  },
  {
   "cell_type": "code",
   "execution_count": 97,
   "id": "3750b169-04ae-44fe-bf9b-4a79f06ef705",
   "metadata": {
    "tags": []
   },
   "outputs": [
    {
     "data": {
      "text/plain": [
       "<matplotlib.collections.PathCollection at 0x239da82ad10>"
      ]
     },
     "execution_count": 97,
     "metadata": {},
     "output_type": "execute_result"
    },
    {
     "data": {
      "image/png": "[encoded data removed]",
      "text/plain": [
       "<Figure size 640x480 with 1 Axes>"
      ]
     },
     "metadata": {},
     "output_type": "display_data"
    }
   ],
   "source": [
    "plt.scatter(out[:, 0].detach().numpy(), snapshot.y[:, 0].detach().numpy())"
   ]
  },
  {
   "cell_type": "code",
   "execution_count": null,
   "id": "875ce515-7be7-42e5-9034-aae68b1dfc89",
   "metadata": {},
   "outputs": [],
   "source": []
  },
  {
   "cell_type": "code",
   "execution_count": null,
   "id": "982c0357-5387-4b83-b3f9-058d655b238b",
   "metadata": {},
   "outputs": [],
   "source": []
  },
  {
   "cell_type": "code",
   "execution_count": 15,
   "id": "8e06e18c-eb13-4aab-a133-876931dbcfd4",
   "metadata": {
    "tags": []
   },
   "outputs": [],
   "source": [
    "data_path = \"D:\\\\PINN\\\\data\"\n",
    "with open(data_path + '/train_cnn_2019_2021.pkl', 'rb') as file:\n",
    "    xx, yy, days, months, years, cnn_input, cnn_output = pickle.load(file)\n",
    "\n",
    "xx = xx[41:, :-41]\n",
    "yy = yy[41:, :-41]\n",
    "\n",
    "\n",
    "cnn_input = np.transpose(cnn_input, (0, 3, 1, 2))[:, :, 41:, :-41].astype(np.double)\n",
    "cnn_output = np.transpose(cnn_output, (0, 3, 1, 2))[:, :, 41:, :-41].astype(np.double)\n",
    "\n",
    "n_samples, n_channels, row, col = np.shape(cnn_input)\n",
    "\n",
    "xx_n = (xx - xx.min())/(xx.max() - xx.min())\n",
    "yy_n = (yy - yy.min())/(yy.max() - yy.min())\n",
    "\n",
    "# xx_n = np.expand_dims(np.expand_dims(xx_n, axis = 0), axis = 0)\n",
    "# yy_n = np.expand_dims(np.expand_dims(yy_n, axis = 0), axis = 0)\n",
    "\n",
    "# xx_n = np.repeat(xx_n, n_samples, axis=0)\n",
    "# yy_n = np.repeat(yy_n, n_samples, axis=0)\n",
    "\n",
    "# cnn_input = np.append(cnn_input, xx_n, axis = 1)\n",
    "# cnn_input = np.append(cnn_input, yy_n, axis = 1)\n",
    "\n",
    "# n_samples, n_channels, row, col = np.shape(cnn_input)\n"
   ]
  },
  {
   "cell_type": "code",
   "execution_count": 16,
   "id": "eb19b626-c0bf-42a9-a025-bac172ed94ea",
   "metadata": {
    "tags": []
   },
   "outputs": [
    {
     "name": "stderr",
     "output_type": "stream",
     "text": [
      "100%|████████████████████████████████████████████████████████████████████████████████████| 3/3 [01:43<00:00, 34.35s/it]\n"
     ]
    }
   ],
   "source": [
    "data_list = []\n",
    "\n",
    "for i in tqdm(range(0, 3)):\n",
    "    G = nx.grid_2d_graph(row,col)   \n",
    "    G.add_edges_from([((x, y), (x+1, y+1)) for x in range(row-1) for y in range(col-1)] + [((x+1, y), (x, y+1)) for x in range(row-1) for y in range(col-1)])\n",
    "    x = {node: torch.cat((torch.cat((torch.tensor([cnn_input[i][c][node] for c in range(0, n_channels)]), torch.tensor([xx_n[node]]))), torch.tensor([yy_n[node]])))\n",
    "         for node in G.nodes()}\n",
    "    y = {node: torch.tensor([cnn_output[i][c][node] for c in range(0, 3)]) for node in G.nodes()}\n",
    "    nx.set_node_attributes(G, x, 'x')\n",
    "    nx.set_node_attributes(G, y, 'y')\n",
    "    \n",
    "    data = from_networkx(G)\n",
    "    filename = int(years[i]*10000 + months[i]*100 + days[i])\n",
    "    # torch.save(data, f'../data/Graph/Grid_graph_{filename}.pt')\n",
    "    data_list.append(data)\n",
    "    \n",
    "loader = DataLoader(data_list, batch_size=32)"
   ]
  },
  {
   "cell_type": "code",
   "execution_count": 46,
   "id": "b41b7b1a-2793-487b-8c9a-c57815a5f525",
   "metadata": {
    "tags": []
   },
   "outputs": [
    {
     "data": {
      "text/plain": [
       "20190105"
      ]
     },
     "execution_count": 46,
     "metadata": {},
     "output_type": "execute_result"
    }
   ],
   "source": [
    "filename = int(years[i]*10000 + months[i]*100 + days[i])\n",
    "filename"
   ]
  },
  {
   "cell_type": "code",
   "execution_count": 47,
   "id": "cb6a5ee7-19ac-4022-b009-cbef201bc90b",
   "metadata": {
    "tags": []
   },
   "outputs": [],
   "source": [
    "filename = int(years[i]*10000 + months[i]*100 + days[i])\n",
    "torch.save(data, f'../data/Graph/Grid_graph_{filename}.pt')"
   ]
  },
  {
   "cell_type": "code",
   "execution_count": 41,
   "id": "2dfd9d35-7eaf-4ee6-b1a8-c7ac398727a4",
   "metadata": {
    "tags": []
   },
   "outputs": [
    {
     "name": "stdout",
     "output_type": "stream",
     "text": [
      "GCN(\n",
      "  (conv1): GCNConv(8, 16)\n",
      "  (conv2): GCNConv(16, 16)\n",
      "  (conv3): GCNConv(16, 3)\n",
      ")\n"
     ]
    }
   ],
   "source": [
    "import torch\n",
    "# im torch.nn\n",
    "import torch.nn.functional as F\n",
    "\n",
    "\n",
    "class MLP(torch.nn.Module):\n",
    "    def __init__(self, hidden_channels = 32):\n",
    "        super().__init__()\n",
    "        # torch.manual_seed(12345)\n",
    "        self.lin1 = nn.Linear(8, hidden_channels)\n",
    "        self.lin2 = nn.Linear(hidden_channels, hidden_channels)\n",
    "        self.lin3 = nn.Linear(hidden_channels, 3)\n",
    "\n",
    "    def forward(self, x):\n",
    "        x = self.lin1(x)\n",
    "        x = x.relu()\n",
    "        x = self.lin2(x)\n",
    "        # x = F.dropout(x, p=0.5, training=self.training)\n",
    "        x = self.lin3(x)\n",
    "        return x\n",
    "\n",
    "# model = MLP(hidden_channels=16)\n",
    "# print(model)\n",
    "\n",
    "class GCN(torch.nn.Module):\n",
    "    def __init__(self, hidden_channels = 16):\n",
    "        super().__init__()\n",
    "        # torch.manual_seed(1234567)\n",
    "        self.conv1 = GCNConv(8, hidden_channels)\n",
    "        self.conv2 = GCNConv(hidden_channels, hidden_channels)\n",
    "        self.conv3 = GCNConv(hidden_channels, 3)\n",
    "\n",
    "    def forward(self, x, edge_index):\n",
    "        x = self.conv1(x, edge_index)\n",
    "        x = x.relu()\n",
    "        x = self.conv2()\n",
    "        x = x.relu() #x = F.dropout(x, p=0.5, training=self.training)\n",
    "        x = self.conv2(x, edge_index)\n",
    "        return x\n",
    "\n",
    "model = GCN(hidden_channels=16)\n",
    "print(model)"
   ]
  },
  {
   "cell_type": "code",
   "execution_count": 42,
   "id": "d86a7942-8135-409b-97db-9b58a79166f9",
   "metadata": {
    "tags": []
   },
   "outputs": [
    {
     "name": "stdout",
     "output_type": "stream",
     "text": [
      "Number of parameters: 11303\n"
     ]
    }
   ],
   "source": [
    "model = MLP()\n",
    "total_params = sum(p.numel() for p in model.parameters())\n",
    "print(f\"Number of parameters: {total_params}\")"
   ]
  },
  {
   "cell_type": "code",
   "execution_count": 35,
   "id": "ff82e73a-b8ac-4bd0-aa85-8474e9417d78",
   "metadata": {
    "tags": []
   },
   "outputs": [
    {
     "name": "stdout",
     "output_type": "stream",
     "text": [
      "Number of parameters: 601\n"
     ]
    }
   ],
   "source": [
    "class MyModel(nn.Module):\n",
    "    def __init__(self):\n",
    "        super(MyModel, self).__init__()\n",
    "        self.fc1 = nn.Linear(10, 50)\n",
    "        self.fc2 = nn.Linear(50, 1)\n",
    "\n",
    "    def forward(self, x):\n",
    "        x = self.fc1(x)\n",
    "        x = self.fc2(x)\n",
    "        return x\n",
    "\n",
    "model = MyModel()\n",
    "total_params = sum(p.numel() for p in model.parameters())\n",
    "print(f\"Number of parameters: {total_params}\")"
   ]
  },
  {
   "cell_type": "code",
   "execution_count": 34,
   "id": "7fce231a-118a-410f-a3e9-1a23b3a1a84d",
   "metadata": {
    "tags": []
   },
   "outputs": [
    {
     "ename": "TypeError",
     "evalue": "Module.parameters() missing 1 required positional argument: 'self'",
     "output_type": "error",
     "traceback": [
      "\u001b[1;31m---------------------------------------------------------------------------\u001b[0m",
      "\u001b[1;31mTypeError\u001b[0m                                 Traceback (most recent call last)",
      "Cell \u001b[1;32mIn[34], line 1\u001b[0m\n\u001b[1;32m----> 1\u001b[0m \u001b[43mGCN\u001b[49m\u001b[38;5;241;43m.\u001b[39;49m\u001b[43mparameters\u001b[49m\u001b[43m(\u001b[49m\u001b[43m)\u001b[49m\n",
      "\u001b[1;31mTypeError\u001b[0m: Module.parameters() missing 1 required positional argument: 'self'"
     ]
    }
   ],
   "source": [
    "GCN.parameters()"
   ]
  },
  {
   "cell_type": "code",
   "execution_count": 31,
   "id": "5cb37088-8a67-4366-b0d1-6379d5cd8bab",
   "metadata": {
    "tags": []
   },
   "outputs": [
    {
     "ename": "TypeError",
     "evalue": "Module.parameters() missing 1 required positional argument: 'self'",
     "output_type": "error",
     "traceback": [
      "\u001b[1;31m---------------------------------------------------------------------------\u001b[0m",
      "\u001b[1;31mTypeError\u001b[0m                                 Traceback (most recent call last)",
      "Cell \u001b[1;32mIn[31], line 1\u001b[0m\n\u001b[1;32m----> 1\u001b[0m total_params \u001b[38;5;241m=\u001b[39m \u001b[38;5;28msum\u001b[39m(p\u001b[38;5;241m.\u001b[39mnumel() \u001b[38;5;28;01mfor\u001b[39;00m p \u001b[38;5;129;01min\u001b[39;00m \u001b[43mGCN\u001b[49m\u001b[38;5;241;43m.\u001b[39;49m\u001b[43mparameters\u001b[49m\u001b[43m(\u001b[49m\u001b[43m)\u001b[49m)\n\u001b[0;32m      2\u001b[0m \u001b[38;5;28mprint\u001b[39m(\u001b[38;5;124mf\u001b[39m\u001b[38;5;124m\"\u001b[39m\u001b[38;5;124mNumber of parameters: \u001b[39m\u001b[38;5;132;01m{\u001b[39;00mtotal_params\u001b[38;5;132;01m}\u001b[39;00m\u001b[38;5;124m\"\u001b[39m)\n",
      "\u001b[1;31mTypeError\u001b[0m: Module.parameters() missing 1 required positional argument: 'self'"
     ]
    }
   ],
   "source": [
    "total_params = sum(p.numel() for p in GCN.parameters())\n",
    "print(f\"Number of parameters: {total_params}\")"
   ]
  },
  {
   "cell_type": "code",
   "execution_count": 9,
   "id": "f7307216-0a24-4011-b585-aff04cf8589b",
   "metadata": {
    "tags": []
   },
   "outputs": [],
   "source": [
    "from torch_geometric.nn import GCNConv\n",
    "\n",
    "class GCN(torch.nn.Module):\n",
    "    def __init__(self, hidden_channels = 32):\n",
    "        super().__init__()\n",
    "        # torch.manual_seed(1234)\n",
    "        self.conv1 = GCNConv(8, hidden_channels)\n",
    "        self.conv2 = GCNConv(hidden_channels, hidden_channels)\n",
    "        self.conv3 = GCNConv(hidden_channels, 3)\n",
    "\n",
    "    def forward(self, x, edge_index):\n",
    "        h = self.conv1(x, edge_index)\n",
    "        h = F.leaky_relu(h, negative_slope=1)\n",
    "        h = self.conv2(h, edge_index)\n",
    "        h = F.leaky_relu(h, negative_slope=1)\n",
    "        h = self.conv3(h, edge_index)\n",
    "        # h = h.tanh()  # Final GNN embedding space.\n",
    "\n",
    "        return h\n"
   ]
  },
  {
   "cell_type": "code",
   "execution_count": 10,
   "id": "43f1553e-e5af-486f-86b3-a121fca7750a",
   "metadata": {
    "tags": []
   },
   "outputs": [
    {
     "name": "stdout",
     "output_type": "stream",
     "text": [
      "GCN(\n",
      "  (conv1): GCNConv(8, 32)\n",
      "  (conv2): GCNConv(32, 32)\n",
      "  (conv3): GCNConv(32, 3)\n",
      ")\n",
      "0 tensor(0.2389, dtype=torch.float64, grad_fn=<MeanBackward0>)\n",
      "10 tensor(0.0723, dtype=torch.float64, grad_fn=<MeanBackward0>)\n",
      "20 tensor(0.0417, dtype=torch.float64, grad_fn=<MeanBackward0>)\n",
      "30 tensor(0.0198, dtype=torch.float64, grad_fn=<MeanBackward0>)\n",
      "40 tensor(0.0180, dtype=torch.float64, grad_fn=<MeanBackward0>)\n",
      "50 tensor(0.0232, dtype=torch.float64, grad_fn=<MeanBackward0>)\n",
      "60 tensor(0.0175, dtype=torch.float64, grad_fn=<MeanBackward0>)\n",
      "70 tensor(0.0150, dtype=torch.float64, grad_fn=<MeanBackward0>)\n",
      "80 tensor(0.0194, dtype=torch.float64, grad_fn=<MeanBackward0>)\n",
      "90 tensor(0.0169, dtype=torch.float64, grad_fn=<MeanBackward0>)\n"
     ]
    }
   ],
   "source": [
    "model = GCN()\n",
    "print(model)\n",
    "criterion = torch.nn.L1Loss()  # Define loss criterion.\n",
    "optimizer = torch.optim.Adam(model.parameters(), lr=0.01)  # Define optimizer.\n",
    "\n",
    "def train(data):\n",
    "    model.train()\n",
    "    loss_all = 0\n",
    "    for data in loader:\n",
    "        optimizer.zero_grad()  # Clear gradients.\n",
    "        out = model(data.x.to(torch.float), data.edge_index)  # Perform a single forward pass.\n",
    "        loss = criterion(out, data.y)  # Compute the loss solely based on the training nodes.\n",
    "        loss.backward()  # Derive gradients.\n",
    "        optimizer.step()  # Update parameters based on gradients.\n",
    "    return loss\n",
    "\n",
    "for epoch in range(100):\n",
    "    loss = train(data)\n",
    "    if epoch % 10 == 0:\n",
    "        print(epoch, loss)\n",
    "        # visualize_embedding(h, color=data.y, epoch=epoch, loss=loss)\n",
    "        # time.sleep(0.3)"
   ]
  },
  {
   "cell_type": "code",
   "execution_count": 274,
   "id": "75fe57d3-2c8e-40a1-9d3a-3fbc371c652b",
   "metadata": {
    "tags": []
   },
   "outputs": [
    {
     "data": {
      "text/plain": [
       "Data(x=[102400, 8], edge_index=[2, 408320], y=[102400, 3])"
      ]
     },
     "execution_count": 274,
     "metadata": {},
     "output_type": "execute_result"
    }
   ],
   "source": [
    "data"
   ]
  },
  {
   "cell_type": "code",
   "execution_count": null,
   "id": "ce273419-a866-45ab-83ea-bc72499588c2",
   "metadata": {},
   "outputs": [],
   "source": [
    "def train(epoch):\n",
    "    model.train()\n",
    "\n",
    "    if epoch == 51:\n",
    "        for param_group in optimizer.param_groups:\n",
    "            param_group['lr'] = 0.5 * param_group['lr']\n",
    "\n",
    "    loss_all = 0\n",
    "    for data in train_loader:\n",
    "        data = data.to(device)\n",
    "        optimizer.zero_grad()\n",
    "        output = model(data.x, data.edge_index, data.batch)\n",
    "        loss = F.nll_loss(output, data.y)\n",
    "        loss.backward()\n",
    "        loss_all += loss.item() * data.num_graphs\n",
    "        optimizer.step()\n",
    "    return loss_all / len(train_dataset)\n",
    "\n",
    "\n",
    "def test(loader):\n",
    "    model.eval()\n",
    "\n",
    "    correct = 0\n",
    "    for data in loader:\n",
    "        data = data.to(device)\n",
    "        output = model(data.x, data.edge_index, data.batch)\n",
    "        pred = output.max(dim=1)[1]\n",
    "        correct += pred.eq(data.y).sum().item()\n",
    "    return correct / len(loader.dataset)"
   ]
  },
  {
   "cell_type": "code",
   "execution_count": null,
   "id": "6f2bd1b6-4d49-440f-9eb9-7469e7fb572e",
   "metadata": {
    "tags": []
   },
   "outputs": [
    {
     "name": "stderr",
     "output_type": "stream",
     "text": [
      "\n",
      "KeyboardInterrupt\n",
      "\n",
      "\n",
      "KeyboardInterrupt\n",
      "\n"
     ]
    },
    {
     "name": "stdout",
     "output_type": "stream",
     "text": [
      "Error in callback <function _draw_all_if_interactive at 0x0000019E2D42F1C0> (for post_execute):\n"
     ]
    }
   ],
   "source": [
    "from torch.nn import Linear\n",
    "import torch.nn.functional as F\n",
    "from torch_geometric.nn import GCNConv\n",
    "from torch_geometric.nn import global_mean_pool\n",
    "\n",
    "\n",
    "class GCN(torch.nn.Module):\n",
    "    def __init__(self, hidden_channels):\n",
    "        super(GCN, self).__init__()\n",
    "        # torch.manual_seed(12345)\n",
    "        self.conv1 = GCNConv(dataset.num_node_features, hidden_channels)\n",
    "        self.conv2 = GCNConv(hidden_channels, hidden_channels)\n",
    "        self.conv3 = GCNConv(hidden_channels, hidden_channels)\n",
    "        self.lin = Linear(hidden_channels, dataset.num_classes)\n",
    "\n",
    "    def forward(self, x, edge_index, batch):\n",
    "        # 1. Obtain node embeddings \n",
    "        x = self.conv1(x, edge_index)\n",
    "        x = x.relu()\n",
    "        x = self.conv2(x, edge_index)\n",
    "        x = x.relu()\n",
    "        x = self.conv3(x, edge_index)\n",
    "\n",
    "        # 2. Readout layer\n",
    "        x = global_mean_pool(x, batch)  # [batch_size, hidden_channels]\n",
    "\n",
    "        # 3. Apply a final classifier\n",
    "        x = F.dropout(x, p=0.5, training=self.training)\n",
    "        x = self.lin(x)\n",
    "        \n",
    "        return x\n",
    "\n",
    "model = GCN(hidden_channels=64)\n",
    "print(model)"
   ]
  },
  {
   "cell_type": "code",
   "execution_count": 138,
   "id": "603d5c07-429d-4bcb-a525-7158c84014ee",
   "metadata": {
    "tags": []
   },
   "outputs": [
    {
     "data": {
      "text/plain": [
       "{'x': array([[0., 0., 0., 0., 0., 0.],\n",
       "        [0., 0., 0., 0., 0., 0.],\n",
       "        [0., 0., 0., 0., 0., 0.],\n",
       "        ...,\n",
       "        [0., 0., 0., 0., 0., 0.],\n",
       "        [0., 0., 0., 0., 0., 0.],\n",
       "        [0., 0., 0., 0., 0., 0.]])}"
      ]
     },
     "execution_count": 138,
     "metadata": {},
     "output_type": "execute_result"
    },
    {
     "name": "stdout",
     "output_type": "stream",
     "text": [
      "ERROR! Session/line number was not unique in database. History logging moved to new session 183\n"
     ]
    }
   ],
   "source": [
    "G.nodes[(0,2)]"
   ]
  }
 ],
 "metadata": {
  "kernelspec": {
   "display_name": "Python 3 (ipykernel)",
   "language": "python",
   "name": "python3"
  },
  "language_info": {
   "codemirror_mode": {
    "name": "ipython",
    "version": 3
   },
   "file_extension": ".py",
   "mimetype": "text/x-python",
   "name": "python",
   "nbconvert_exporter": "python",
   "pygments_lexer": "ipython3",
   "version": "3.10.11"
  }
 },
 "nbformat": 4,
 "nbformat_minor": 5
}
